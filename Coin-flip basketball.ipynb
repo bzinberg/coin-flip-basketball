{
 "cells": [
  {
   "cell_type": "markdown",
   "id": "40275277-4e60-4c9a-9da5-a3b476eb4742",
   "metadata": {},
   "source": [
    "# Coin-flip basketball\n",
    "\n",
    "Sorry for the filler subsection headings, I had to add them to make collapsing and expanding cells work."
   ]
  },
  {
   "cell_type": "markdown",
   "id": "89ccb948-4999-41ae-90ce-04dc947d440a",
   "metadata": {},
   "source": [
    "## Question\n",
    "\n",
    "In the game of coin-flip basketball, an odd number $n$ of (independent, fair) coins are placed on the court and flipped in sequence.  For each heads, the home team scores a point; for each tails, the away team scores a point.  The game ends when one team reaches more than $n/2$ points.\n",
    "\n",
    "In high-profile matches, if (and only if) at any point before the end of the game, the home team has a 90% or greater chance of winning, a siren will sound.  In the junior league, the 90% threshold is changed to 75%.\n",
    "\n",
    "We are interested in two high-profile games of coin-flip basketball: the junior league championship which has $n=5$, and the major league championship which has $n=101$.  Given that the siren _does_ sound in each of the two games, what is the probability that that the home team wins the junior league championship?  The major league championship?"
   ]
  },
  {
   "cell_type": "markdown",
   "id": "eec689a4-b182-4571-b3b4-9ce31ebb2472",
   "metadata": {},
   "source": [
    "## Solution\n",
    "\n",
    "For each $n$, let $a(n)$ denote the largest integer $k$ such that\n",
    "$$\n",
    "\\sum_{0 \\leq i < k} \\binom{n}{i} \\leq 0.1 \\cdot 2^n.\n",
    "$$\n",
    "\n",
    "In a game of coin-flip basketball with $n$ coins, the home team has a $\\geq 90\\%$ chance of winning at least $a(n)$ flips, and has a $< 90\\%$ chance of winning at least $a(n) + 1$ flips."
   ]
  },
  {
   "cell_type": "markdown",
   "id": "e05487db-389e-4e1c-a7e6-bf122c671d07",
   "metadata": {},
   "source": [
    "### Computing $a$"
   ]
  },
  {
   "cell_type": "markdown",
   "id": "6315c001-842a-44d7-9571-b272a95ed0c5",
   "metadata": {},
   "source": [
    "Looking at two consecutive rows of Pascal's triangle, we obtain the identity\n",
    "$$\n",
    "\\sum_{0 \\leq i < k} \\binom{n+1}{i} =\n",
    "2 \\left( \\sum_{0 \\leq i < k} \\binom{n}{i} \\right) - \\binom{n}{k}.\n",
    "$$\n",
    "This allows us to efficiently compute $a(n)$ for all $n \\leq n_{\\max}$, for a given $n_{\\max}$, as the sums involved for a new value of $n$ can reuse work from smaller values of $n$."
   ]
  },
  {
   "cell_type": "code",
   "execution_count": 1,
   "id": "eb242ace-63b1-4e23-91f2-1384141a91c5",
   "metadata": {},
   "outputs": [],
   "source": [
    "import math\n",
    "\n",
    "def binom(n, k):\n",
    "    if k < 0:\n",
    "        return 0\n",
    "    return math.comb(n, k)\n",
    "\n",
    "def compute_a(n_max, *, threshold_frac):\n",
    "    a = [0]\n",
    "    n = 0\n",
    "    threshold = threshold_frac\n",
    "    k = 0\n",
    "    s = 0\n",
    "\n",
    "    while n < n_max:\n",
    "        threshold *= 2\n",
    "        s = 2 * s - binom(n, k-1)\n",
    "        n += 1\n",
    "        while True:\n",
    "            d = binom(n, k)\n",
    "            if s + d > threshold:\n",
    "                break\n",
    "            k += 1\n",
    "            s += d\n",
    "        a.append(k)\n",
    "\n",
    "    return a"
   ]
  },
  {
   "cell_type": "markdown",
   "id": "d31f9f56-bdca-40d5-9e56-4a4d66035c06",
   "metadata": {},
   "source": [
    "#### Sanity check"
   ]
  },
  {
   "cell_type": "code",
   "execution_count": 2,
   "id": "68ff2af4-1307-443e-9115-423b3abf5a8f",
   "metadata": {},
   "outputs": [],
   "source": [
    "the_n_max = 101\n",
    "the_threshold_frac = 0.1\n",
    "a = compute_a(the_n_max, threshold_frac=the_threshold_frac)\n",
    "assert len(a) == the_n_max + 1\n",
    "for (n, k) in enumerate(a):\n",
    "    left = sum(binom(n, j) for j in range(k))\n",
    "    right = left + binom(n, k)\n",
    "    threshold = the_threshold_frac * 2**n\n",
    "    assert left <= threshold and right > threshold, (left, right, threshold)"
   ]
  },
  {
   "cell_type": "markdown",
   "id": "d79c979d-cac0-4a7e-a9e1-b3312193334e",
   "metadata": {},
   "source": [
    "## Back to prose\n",
    "\n",
    "If the home team has won $w$ coin flips and lost $\\ell$ coin flips so far, then the home team has a $\\geq 90\\%$ chance of winning if and only if\n",
    "$$\n",
    "51 - w \\leq a(101 - w - \\ell),\n",
    "$$\n",
    "or rearranging,\n",
    "$$\n",
    "w \\geq 51 - a(101 - w - \\ell).\n",
    "$$"
   ]
  },
  {
   "cell_type": "markdown",
   "id": "a8bae71f-6ea6-4e31-9def-b319f16cbf44",
   "metadata": {},
   "source": [
    "Since $a(n)$ is a non-decreasing function of $n$, we have that for any fixed value of $w$, there is some $\\ell_{\\text{NS}}(w)$ such that the above holds if and only if $0 \\leq \\ell < \\ell_{\\text{NS}}(w)$.  The \"NS\" stands for \"no siren,\" as for any $w, \\ell < 51$, a game state with $w$ wins and $\\ell$ losses will _not_ cause an siren if and only if $\\ell \\geq \\ell_{\\text{NS}}(w)$."
   ]
  },
  {
   "cell_type": "markdown",
   "id": "2bd76d68-f4b1-4ef8-aa97-80f5c9d53f67",
   "metadata": {},
   "source": [
    "### Computing $\\ell_{\\text{NS}}$"
   ]
  },
  {
   "cell_type": "code",
   "execution_count": 3,
   "id": "bc67a34d-bc9c-47a8-83e0-a17e605649c7",
   "metadata": {},
   "outputs": [],
   "source": [
    "def compute_ℓ_ns(a):\n",
    "    n_max = len(a) - 1\n",
    "    n_maj = n_max // 2 + 1\n",
    "    return [next(filter(lambda ℓ: w < n_maj - a[n_max - w - ℓ],\n",
    "                        range(n_max - w + 1)),\n",
    "                 n_maj)\n",
    "            for w in range(n_maj + 1)]"
   ]
  },
  {
   "cell_type": "code",
   "execution_count": 4,
   "id": "ae30d876-7f75-4a03-8e34-49ee0f8f3679",
   "metadata": {},
   "outputs": [],
   "source": [
    "a = compute_a(101, threshold_frac=0.1)\n",
    "ℓ_ns = compute_ℓ_ns(a)"
   ]
  },
  {
   "cell_type": "markdown",
   "id": "d7d4edd6-30e5-4162-aa59-e07529f12f2f",
   "metadata": {},
   "source": [
    "## Back to prose"
   ]
  },
  {
   "cell_type": "markdown",
   "id": "dde67dcb-107d-4c64-8292-988dc9603836",
   "metadata": {},
   "source": [
    "Now, we have\n",
    "$$\n",
    "\\begin{aligned}\n",
    "\\Pr\\left[ \\text{win} \\ \\middle|\\ \\text{siren} \\right]\n",
    "&=\n",
    "\\frac{\n",
    "  \\Pr\\left[\n",
    "    \\text{siren \\& win}\n",
    "  \\right]\n",
    "}{\n",
    "  \\Pr\\left[ \\text{siren} \\right]\n",
    "} \\\\[1em]\n",
    "&=\n",
    "\\frac{\n",
    "  \\Pr[\\text{win}]\n",
    "  - \\Pr\\left[\n",
    "    \\text{no siren \\& win}\n",
    "  \\right]\n",
    "}{\n",
    "  1 - \\Pr\\left[ \\text{no siren \\& win} \\right] - \\Pr\\left[ \\text{no siren \\& lose} \\right]\n",
    "}.\n",
    "\\end{aligned}\n",
    "$$\n",
    "\n",
    "Let $b(w, \\ell)$ denote the number of possible sequences of outcomes for the first $w + \\ell$ coin flip results such that:\n",
    "* The home team wins $w$ flips and loses $\\ell$ flips\n",
    "* The sequence does not end in a loss (in other words, either the sequence ends in a win or $w = \\ell = 0$)\n",
    "* The conditions for an siren do not happen during the first $w + \\ell$ flips.\n",
    "\n",
    "Then, we have\n",
    "$$\n",
    "\\Pr\\left[ \\text{no siren \\& win} \\right]\n",
    "=\n",
    "\\sum_{0 \\leq \\ell < 51}\n",
    "  \\frac{b(51, \\ell)}{2^{51 + \\ell}}\n",
    "$$\n",
    "\n",
    "and similarly,\n",
    "$$\n",
    "\\Pr\\left[ \\text{no siren \\& lose} \\right]\n",
    "=\n",
    "\\sum_{\\substack{0 \\leq w < 51 \\\\\n",
    "                \\ell_{\\text{NS}}(w) \\leq \\ell_1 < 51}}\n",
    "  \\frac{b(w, \\ell_1)}{2^{w + 51}}.\n",
    "$$\n",
    "In the latter equation, the summand is the probability that:\n",
    "* the home team loses overall, with $w < 51$ flips won at the end of the game;\n",
    "* there is no siren;\n",
    "* the home team loses $\\ell_1$ flips before their last win (or if $w=0$, then $\\ell_1=0$), then loses the remaining $51 - \\ell_1$ flips."
   ]
  },
  {
   "cell_type": "markdown",
   "id": "f8b6783c-19a3-4714-be3a-7840af1330db",
   "metadata": {},
   "source": [
    "### Computing $b$"
   ]
  },
  {
   "cell_type": "markdown",
   "id": "db340116-03fc-4150-98a9-2d34ef81f1a7",
   "metadata": {},
   "source": [
    "There are exponentially many paths to count, but we can compute $b$ in quadratic time using the recurrence\n",
    "$$\n",
    "b(w + 1,\\ \\ell) = \\sum_{j = \\ell_{\\text{NS}}(w)}^{j=\\ell} b(w, j) \\qquad (\\ell \\geq \\ell_{\\text{NS}}(w+1))\n",
    "$$\n",
    "which holds for each $w < 51$ and each $\\ell \\geq \\ell_{\\text{NS}}(w+1)$.  In prose, the recurrence says that the way to have $\\ell$ losses (and no siren) when you win your $(w+1)$st flip, is to have $j$ losses (and no siren) when you win your $w$th flip for some $j \\geq \\ell_{\\text{NS}}(w)$, then lose $\\ell - j$ flips, then win your $(w+1)$st flip."
   ]
  },
  {
   "cell_type": "code",
   "execution_count": 5,
   "id": "50a550e0-8b9b-4410-9bee-265153b17630",
   "metadata": {},
   "outputs": [],
   "source": [
    "import numpy as np\n",
    "from sympy import Rational\n",
    "R_zero = Rational(0)\n",
    "R_one = Rational(1)\n",
    "R_two = Rational(2)\n",
    "\n",
    "def compute_b(ℓ_ns):\n",
    "    n_maj = len(ℓ_ns) - 1\n",
    "    b = np.tile(R_zero, (n_maj + 1, n_maj))\n",
    "    b[0, 0] = R_one\n",
    "    for w in range(1, n_maj + 1):\n",
    "        b[w, :] = np.cumsum(b[w-1, :])\n",
    "        # For w = n_maj, siren never happens no matter how many\n",
    "        # losses there have been because the game is over\n",
    "        if w != n_maj:\n",
    "            b[w, :ℓ_ns[w]] = R_zero\n",
    "    return b"
   ]
  },
  {
   "cell_type": "markdown",
   "id": "9d12030d-9540-4ce7-8e77-177dfe62d533",
   "metadata": {},
   "source": [
    "## Putting it all together"
   ]
  },
  {
   "cell_type": "code",
   "execution_count": 6,
   "id": "17cfccca-7ebf-4b46-886d-0f4bf8bfac4d",
   "metadata": {},
   "outputs": [],
   "source": [
    "import collections\n",
    "Probs = collections.namedtuple(\"Probs\", [\"p_win_given_siren\",\n",
    "                                         \"p_no_siren_and_win\",\n",
    "                                         \"p_no_siren_and_lose\"])\n",
    "\n",
    "def compute_probs(num_coins, *, threshold_frac):\n",
    "    a = compute_a(num_coins, threshold_frac=threshold_frac)\n",
    "    ℓ_ns = compute_ℓ_ns(a)\n",
    "    b = compute_b(ℓ_ns)\n",
    "\n",
    "    n_maj = len(ℓ_ns) - 1\n",
    "    p_win = R_one / 2\n",
    "    p_no_siren_and_win = (np.sum(b[n_maj, :]\n",
    "                          / R_two**(n_maj + np.arange(n_maj))))\n",
    "    p_no_siren_and_lose = (np.sum(b[:-1, :]\n",
    "                           / np.reshape(R_two**(n_maj + np.arange(n_maj)),\n",
    "                                         (-1, 1))))\n",
    "    p_win_given_siren = ((p_win - p_no_siren_and_win)\n",
    "                         / (1 - p_no_siren_and_win - p_no_siren_and_lose))\n",
    "\n",
    "    return Probs(p_win_given_siren=p_win_given_siren,\n",
    "                 p_no_siren_and_win=p_no_siren_and_win,\n",
    "                 p_no_siren_and_lose=p_no_siren_and_lose)"
   ]
  },
  {
   "cell_type": "markdown",
   "id": "8c4f0293-b14a-419d-84aa-5eef25a6f077",
   "metadata": {},
   "source": [
    "### The small version of the problem"
   ]
  },
  {
   "cell_type": "code",
   "execution_count": 7,
   "id": "ffb406f1-a89b-42a5-a036-6eac96f5695a",
   "metadata": {},
   "outputs": [
    {
     "data": {
      "text/plain": [
       "Probs(p_win_given_siren=13/16, p_no_siren_and_win=3/32, p_no_siren_and_lose=13/32)"
      ]
     },
     "execution_count": 7,
     "metadata": {},
     "output_type": "execute_result"
    }
   ],
   "source": [
    "compute_probs(5, threshold_frac=0.25)"
   ]
  },
  {
   "cell_type": "markdown",
   "id": "f4ad8dce-549d-46e9-9679-36033533489d",
   "metadata": {},
   "source": [
    "### The bigger version"
   ]
  },
  {
   "cell_type": "code",
   "execution_count": 8,
   "id": "efa8cefe-89ef-4719-89d5-1cdffab0ac4f",
   "metadata": {},
   "outputs": [
    {
     "data": {
      "text/plain": [
       "Probs(p_win_given_siren=140174010250500688972389460135/152792878510042509063916896338, p_no_siren_and_win=18282314778027986214698440537/316912650057057350374175801344, p_no_siren_and_lose=145837456768986855095560464469/316912650057057350374175801344)"
      ]
     },
     "execution_count": 8,
     "metadata": {},
     "output_type": "execute_result"
    }
   ],
   "source": [
    "probs_big = compute_probs(101, threshold_frac=0.1)\n",
    "probs_big"
   ]
  },
  {
   "cell_type": "code",
   "execution_count": 9,
   "id": "46a08718-d24a-458e-9d14-193803d502fe",
   "metadata": {},
   "outputs": [
    {
     "data": {
      "text/plain": [
       "Probs(p_win_given_siren=0.9174119344920095, p_no_siren_and_win=0.057688813541322555, p_no_siren_and_lose=0.4601818726476526)"
      ]
     },
     "execution_count": 9,
     "metadata": {},
     "output_type": "execute_result"
    }
   ],
   "source": [
    "Probs(*map(float, probs_big))"
   ]
  },
  {
   "cell_type": "markdown",
   "id": "1c90f262-9a4a-4a1b-8f27-0d1a6e748d6e",
   "metadata": {},
   "source": [
    "### I guess there's a bug\n",
    "\n",
    "The above code agrees with the official solution for the small version of the problem but not the big one.  I guess there's a bug somewhere in here."
   ]
  }
 ],
 "metadata": {
  "jupytext": {
   "formats": "ipynb,py:light"
  },
  "kernelspec": {
   "display_name": "Python 3 (ipykernel)",
   "language": "python",
   "name": "python3"
  },
  "language_info": {
   "codemirror_mode": {
    "name": "ipython",
    "version": 3
   },
   "file_extension": ".py",
   "mimetype": "text/x-python",
   "name": "python",
   "nbconvert_exporter": "python",
   "pygments_lexer": "ipython3",
   "version": "3.10.6"
  }
 },
 "nbformat": 4,
 "nbformat_minor": 5
}
